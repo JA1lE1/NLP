{
 "cells": [
  {
   "cell_type": "code",
   "execution_count": null,
   "metadata": {
    "ExecuteTime": {
     "start_time": "2019-06-18T05:05:04.937Z"
    }
   },
   "outputs": [],
   "source": [
    "import multiprocessing\n",
    "import time\n",
    "\n",
    "def func(msg):\n",
    "    print(multiprocessing.current_process().name + '-' + msg)\n",
    "\n",
    "if __name__ == \"__main__\":\n",
    "    pool = multiprocessing.Pool(processes=4) # 创建4个进程\n",
    "    for i in range(10):\n",
    "        msg = \"hello %d\" %(i)\n",
    "        pool.apply_async(func, (msg, ))\n",
    "    pool.close() # 关闭进程池，表示不能在往进程池中添加进程\n",
    "    pool.join() # 等待进程池中的所有进程执行完毕，必须在close()之后调用\n",
    "    print(\"Sub-process(es) done.\")\n",
    "\n"
   ]
  },
  {
   "cell_type": "code",
   "execution_count": 1,
   "metadata": {
    "ExecuteTime": {
     "end_time": "2019-06-18T06:52:58.436603Z",
     "start_time": "2019-06-18T06:52:58.416622Z"
    }
   },
   "outputs": [
    {
     "name": "stdout",
     "output_type": "stream",
     "text": [
      "time.mktime(t) : 1234861418.000000\n",
      "asctime(localtime(secs)): Tue Feb 17 17:03:38 2009\n"
     ]
    }
   ],
   "source": [
    "# python time 的使用\n",
    "## mktime\n",
    "import time\n",
    "\n",
    "t = (2009, 2, 17, 17, 3, 38, 1, 48, 0)\n",
    "secs = time.mktime( t )\n",
    "print(\"time.mktime(t) : %f\" %  secs)\n",
    "print(\"asctime(localtime(secs)): %s\" % time.asctime(time.localtime(secs))) \n",
    "\n",
    "## "
   ]
  },
  {
   "cell_type": "markdown",
   "metadata": {},
   "source": [
    "# 探索所需信息"
   ]
  },
  {
   "cell_type": "markdown",
   "metadata": {},
   "source": [
    "## 中南平台的json文件格式查看"
   ]
  },
  {
   "cell_type": "code",
   "execution_count": 1,
   "metadata": {
    "ExecuteTime": {
     "end_time": "2019-06-19T13:18:57.555814Z",
     "start_time": "2019-06-19T13:18:53.091067Z"
    }
   },
   "outputs": [],
   "source": [
    "import pandas as pd\n",
    "Topic_evolution = pd.read_csv('Topic-evolution_cn.html.csv')"
   ]
  },
  {
   "cell_type": "code",
   "execution_count": 4,
   "metadata": {
    "ExecuteTime": {
     "end_time": "2019-06-19T13:25:16.378376Z",
     "start_time": "2019-06-19T13:25:16.366434Z"
    }
   },
   "outputs": [
    {
     "data": {
      "text/html": [
       "<div>\n",
       "<style scoped>\n",
       "    .dataframe tbody tr th:only-of-type {\n",
       "        vertical-align: middle;\n",
       "    }\n",
       "\n",
       "    .dataframe tbody tr th {\n",
       "        vertical-align: top;\n",
       "    }\n",
       "\n",
       "    .dataframe thead th {\n",
       "        text-align: right;\n",
       "    }\n",
       "</style>\n",
       "<table border=\"1\" class=\"dataframe\">\n",
       "  <thead>\n",
       "    <tr style=\"text-align: right;\">\n",
       "      <th></th>\n",
       "      <th>Entity</th>\n",
       "      <th>Code</th>\n",
       "      <th>Year</th>\n",
       "      <th>Unnamed: 3</th>\n",
       "    </tr>\n",
       "  </thead>\n",
       "  <tbody>\n",
       "    <tr>\n",
       "      <th>9035</th>\n",
       "      <td>钢铝关税回应</td>\n",
       "      <td>钢铝</td>\n",
       "      <td>1539532800</td>\n",
       "      <td>2.207</td>\n",
       "    </tr>\n",
       "    <tr>\n",
       "      <th>9036</th>\n",
       "      <td>钢铝关税回应</td>\n",
       "      <td>钢铝</td>\n",
       "      <td>1539619200</td>\n",
       "      <td>2.264</td>\n",
       "    </tr>\n",
       "    <tr>\n",
       "      <th>9037</th>\n",
       "      <td>钢铝关税回应</td>\n",
       "      <td>钢铝</td>\n",
       "      <td>1539705600</td>\n",
       "      <td>2.166</td>\n",
       "    </tr>\n",
       "    <tr>\n",
       "      <th>9038</th>\n",
       "      <td>钢铝关税回应</td>\n",
       "      <td>钢铝</td>\n",
       "      <td>1539792000</td>\n",
       "      <td>1.994</td>\n",
       "    </tr>\n",
       "    <tr>\n",
       "      <th>9039</th>\n",
       "      <td>钢铝关税回应</td>\n",
       "      <td>钢铝</td>\n",
       "      <td>1539878400</td>\n",
       "      <td>2.205</td>\n",
       "    </tr>\n",
       "  </tbody>\n",
       "</table>\n",
       "</div>"
      ],
      "text/plain": [
       "      Entity Code        Year  Unnamed: 3\n",
       "9035  钢铝关税回应   钢铝  1539532800       2.207\n",
       "9036  钢铝关税回应   钢铝  1539619200       2.264\n",
       "9037  钢铝关税回应   钢铝  1539705600       2.166\n",
       "9038  钢铝关税回应   钢铝  1539792000       1.994\n",
       "9039  钢铝关税回应   钢铝  1539878400       2.205"
      ]
     },
     "execution_count": 4,
     "metadata": {},
     "output_type": "execute_result"
    }
   ],
   "source": [
    "Topic_evolution.tail()"
   ]
  },
  {
   "cell_type": "markdown",
   "metadata": {},
   "source": [
    "### 所需信息\n",
    "- 基于某一个具体的大主题新闻背景下的主题演化情况\n",
    "- 需要子主题，这个可以在进行主题分布的时候进行人工标注\n",
    "- 这些主题就是各个可视化展示的主体----主题演化的概念实体\n",
    "- 这些主题演化的概念实体是基于时间序列的，因此它需要时间戳\n",
    "- 主题演化的主体--新闻主题平均百分比的滑动平均模型（基于时间序列）"
   ]
  }
 ],
 "metadata": {
  "hide_input": false,
  "kernelspec": {
   "display_name": "Python (env_full_stack)",
   "language": "python",
   "name": "env_full_stack"
  },
  "latex_envs": {
   "LaTeX_envs_menu_present": true,
   "autoclose": false,
   "autocomplete": true,
   "bibliofile": "biblio.bib",
   "cite_by": "apalike",
   "current_citInitial": 1,
   "eqLabelWithNumbers": true,
   "eqNumInitial": 1,
   "hotkeys": {
    "equation": "Ctrl-E",
    "itemize": "Ctrl-I"
   },
   "labels_anchors": false,
   "latex_user_defs": false,
   "report_style_numbering": false,
   "user_envs_cfg": false
  },
  "nbTranslate": {
   "displayLangs": [
    "*"
   ],
   "hotkey": "alt-t",
   "langInMainMenu": true,
   "sourceLang": "en",
   "targetLang": "fr",
   "useGoogleTranslate": true
  },
  "toc": {
   "base_numbering": 1,
   "nav_menu": {},
   "number_sections": true,
   "sideBar": true,
   "skip_h1_title": false,
   "title_cell": "Table of Contents",
   "title_sidebar": "Contents",
   "toc_cell": false,
   "toc_position": {},
   "toc_section_display": true,
   "toc_window_display": false
  },
  "varInspector": {
   "cols": {
    "lenName": 16,
    "lenType": 16,
    "lenVar": 40
   },
   "kernels_config": {
    "python": {
     "delete_cmd_postfix": "",
     "delete_cmd_prefix": "del ",
     "library": "var_list.py",
     "varRefreshCmd": "print(var_dic_list())"
    },
    "r": {
     "delete_cmd_postfix": ") ",
     "delete_cmd_prefix": "rm(",
     "library": "var_list.r",
     "varRefreshCmd": "cat(var_dic_list()) "
    }
   },
   "types_to_exclude": [
    "module",
    "function",
    "builtin_function_or_method",
    "instance",
    "_Feature"
   ],
   "window_display": false
  }
 },
 "nbformat": 4,
 "nbformat_minor": 2
}
