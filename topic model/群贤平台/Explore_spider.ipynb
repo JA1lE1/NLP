{
 "cells": [
  {
   "cell_type": "code",
   "execution_count": null,
   "metadata": {
    "ExecuteTime": {
     "start_time": "2019-06-18T05:05:04.937Z"
    }
   },
   "outputs": [],
   "source": [
    "import multiprocessing\n",
    "import time\n",
    "\n",
    "def func(msg):\n",
    "    print(multiprocessing.current_process().name + '-' + msg)\n",
    "\n",
    "if __name__ == \"__main__\":\n",
    "    pool = multiprocessing.Pool(processes=4) # 创建4个进程\n",
    "    for i in range(10):\n",
    "        msg = \"hello %d\" %(i)\n",
    "        pool.apply_async(func, (msg, ))\n",
    "    pool.close() # 关闭进程池，表示不能在往进程池中添加进程\n",
    "    pool.join() # 等待进程池中的所有进程执行完毕，必须在close()之后调用\n",
    "    print(\"Sub-process(es) done.\")\n",
    "\n"
   ]
  },
  {
   "cell_type": "code",
   "execution_count": 1,
   "metadata": {
    "ExecuteTime": {
     "end_time": "2019-06-18T06:52:58.436603Z",
     "start_time": "2019-06-18T06:52:58.416622Z"
    }
   },
   "outputs": [
    {
     "name": "stdout",
     "output_type": "stream",
     "text": [
      "time.mktime(t) : 1234861418.000000\n",
      "asctime(localtime(secs)): Tue Feb 17 17:03:38 2009\n"
     ]
    }
   ],
   "source": [
    "# python time 的使用\n",
    "## mktime\n",
    "import time\n",
    "\n",
    "t = (2009, 2, 17, 17, 3, 38, 1, 48, 0)\n",
    "secs = time.mktime( t )\n",
    "print(\"time.mktime(t) : %f\" %  secs)\n",
    "print(\"asctime(localtime(secs)): %s\" % time.asctime(time.localtime(secs))) \n",
    "\n",
    "## "
   ]
  },
  {
   "cell_type": "markdown",
   "metadata": {},
   "source": [
    "# 探索所需信息"
   ]
  },
  {
   "cell_type": "markdown",
   "metadata": {},
   "source": [
    "## 中南平台的json文件格式查看"
   ]
  },
  {
   "cell_type": "code",
   "execution_count": 1,
   "metadata": {
    "ExecuteTime": {
     "end_time": "2019-06-19T13:18:57.555814Z",
     "start_time": "2019-06-19T13:18:53.091067Z"
    }
   },
   "outputs": [],
   "source": [
    "import pandas as pd\n",
    "Topic_evolution = pd.read_csv('Topic-evolution_cn.html.csv')"
   ]
  },
  {
   "cell_type": "code",
   "execution_count": 4,
   "metadata": {
    "ExecuteTime": {
     "end_time": "2019-06-19T13:25:16.378376Z",
     "start_time": "2019-06-19T13:25:16.366434Z"
    }
   },
   "outputs": [
    {
     "data": {
      "text/html": [
       "<div>\n",
       "<style scoped>\n",
       "    .dataframe tbody tr th:only-of-type {\n",
       "        vertical-align: middle;\n",
       "    }\n",
       "\n",
       "    .dataframe tbody tr th {\n",
       "        vertical-align: top;\n",
       "    }\n",
       "\n",
       "    .dataframe thead th {\n",
       "        text-align: right;\n",
       "    }\n",
       "</style>\n",
       "<table border=\"1\" class=\"dataframe\">\n",
       "  <thead>\n",
       "    <tr style=\"text-align: right;\">\n",
       "      <th></th>\n",
       "      <th>Entity</th>\n",
       "      <th>Code</th>\n",
       "      <th>Year</th>\n",
       "      <th>Unnamed: 3</th>\n",
       "    </tr>\n",
       "  </thead>\n",
       "  <tbody>\n",
       "    <tr>\n",
       "      <th>9035</th>\n",
       "      <td>钢铝关税回应</td>\n",
       "      <td>钢铝</td>\n",
       "      <td>1539532800</td>\n",
       "      <td>2.207</td>\n",
       "    </tr>\n",
       "    <tr>\n",
       "      <th>9036</th>\n",
       "      <td>钢铝关税回应</td>\n",
       "      <td>钢铝</td>\n",
       "      <td>1539619200</td>\n",
       "      <td>2.264</td>\n",
       "    </tr>\n",
       "    <tr>\n",
       "      <th>9037</th>\n",
       "      <td>钢铝关税回应</td>\n",
       "      <td>钢铝</td>\n",
       "      <td>1539705600</td>\n",
       "      <td>2.166</td>\n",
       "    </tr>\n",
       "    <tr>\n",
       "      <th>9038</th>\n",
       "      <td>钢铝关税回应</td>\n",
       "      <td>钢铝</td>\n",
       "      <td>1539792000</td>\n",
       "      <td>1.994</td>\n",
       "    </tr>\n",
       "    <tr>\n",
       "      <th>9039</th>\n",
       "      <td>钢铝关税回应</td>\n",
       "      <td>钢铝</td>\n",
       "      <td>1539878400</td>\n",
       "      <td>2.205</td>\n",
       "    </tr>\n",
       "  </tbody>\n",
       "</table>\n",
       "</div>"
      ],
      "text/plain": [
       "      Entity Code        Year  Unnamed: 3\n",
       "9035  钢铝关税回应   钢铝  1539532800       2.207\n",
       "9036  钢铝关税回应   钢铝  1539619200       2.264\n",
       "9037  钢铝关税回应   钢铝  1539705600       2.166\n",
       "9038  钢铝关税回应   钢铝  1539792000       1.994\n",
       "9039  钢铝关税回应   钢铝  1539878400       2.205"
      ]
     },
     "execution_count": 4,
     "metadata": {},
     "output_type": "execute_result"
    }
   ],
   "source": [
    "Topic_evolution.tail()"
   ]
  },
  {
   "cell_type": "markdown",
   "metadata": {},
   "source": [
    "### 所需信息\n",
    "- 基于某一个具体的大主题新闻背景下的主题演化情况\n",
    "- 需要子主题，这个可以在进行主题分布的时候进行人工标注\n",
    "- 这些主题就是各个可视化展示的主体----主题演化的概念实体\n",
    "- 这些主题演化的概念实体是基于时间序列的，因此它需要时间戳\n",
    "- 主题演化的主体--新闻主题平均百分比的滑动平均模型（基于时间序列）"
   ]
  },
  {
   "cell_type": "markdown",
   "metadata": {},
   "source": [
    "### Hacker news csv 的实体\n",
    "- story_id,story_time,story_url,story_text,story_author,comment_id,comment_text,comment_author,comment_ranking,author_comment_count,story_comment_count\n",
    "- id, 新闻事件戳， 新闻url， 新闻正文， 新闻作者， 评论id 评论文本 评论作者，评论排名，"
   ]
  },
  {
   "cell_type": "code",
   "execution_count": null,
   "metadata": {},
   "outputs": [],
   "source": [
    "lambda x:(x,w,q,n,s\n",
    "j,w,q,n,s=u\n",
    "f = time.mktime(time.strptime(s+\" 00:00:00\", \"%Y-%m-%d %H:%M:%S\"))\n",
    "\n",
    "a = time.strftime(\"%Y-%m-%d\", time.localtime(f + 86400 * j * random.randint(q, q+2)))"
   ]
  },
  {
   "cell_type": "code",
   "execution_count": 9,
   "metadata": {
    "ExecuteTime": {
     "end_time": "2019-06-20T08:06:15.149379Z",
     "start_time": "2019-06-20T08:06:15.132514Z"
    }
   },
   "outputs": [
    {
     "data": {
      "text/plain": [
       "15727.666666666666"
      ]
     },
     "execution_count": 9,
     "metadata": {},
     "output_type": "execute_result"
    }
   ],
   "source": [
    "import time\n",
    "int(time.mktime(time.strptime(\"2013-01-23 00:00:00\", \"%Y-%m-%d %H:%M:%S\")))/86400"
   ]
  },
  {
   "cell_type": "markdown",
   "metadata": {},
   "source": [
    "### Hacker_news_raw_Data"
   ]
  },
  {
   "cell_type": "code",
   "execution_count": 2,
   "metadata": {
    "ExecuteTime": {
     "end_time": "2019-06-21T06:07:58.073677Z",
     "start_time": "2019-06-21T06:07:34.636645Z"
    }
   },
   "outputs": [],
   "source": [
    "import pandas as pd\n",
    "HN = pd.read_csv('hacker_news_comments.csv')"
   ]
  },
  {
   "cell_type": "code",
   "execution_count": 3,
   "metadata": {
    "ExecuteTime": {
     "end_time": "2019-06-21T06:08:21.658596Z",
     "start_time": "2019-06-21T06:08:21.293076Z"
    }
   },
   "outputs": [
    {
     "data": {
      "text/html": [
       "<div>\n",
       "<style scoped>\n",
       "    .dataframe tbody tr th:only-of-type {\n",
       "        vertical-align: middle;\n",
       "    }\n",
       "\n",
       "    .dataframe tbody tr th {\n",
       "        vertical-align: top;\n",
       "    }\n",
       "\n",
       "    .dataframe thead th {\n",
       "        text-align: right;\n",
       "    }\n",
       "</style>\n",
       "<table border=\"1\" class=\"dataframe\">\n",
       "  <thead>\n",
       "    <tr style=\"text-align: right;\">\n",
       "      <th></th>\n",
       "      <th>story_id</th>\n",
       "      <th>story_time</th>\n",
       "      <th>story_url</th>\n",
       "      <th>story_text</th>\n",
       "      <th>story_author</th>\n",
       "      <th>comment_id</th>\n",
       "      <th>comment_text</th>\n",
       "      <th>comment_author</th>\n",
       "      <th>comment_ranking</th>\n",
       "      <th>author_comment_count</th>\n",
       "      <th>story_comment_count</th>\n",
       "    </tr>\n",
       "  </thead>\n",
       "  <tbody>\n",
       "    <tr>\n",
       "      <th>0</th>\n",
       "      <td>3985069</td>\n",
       "      <td>1337221782</td>\n",
       "      <td>http://androidcommunity.com/verizon-killing-of...</td>\n",
       "      <td>NaN</td>\n",
       "      <td>joedev</td>\n",
       "      <td>3985756</td>\n",
       "      <td>Makes sense for Verizon, and if they are being...</td>\n",
       "      <td>Quizzy</td>\n",
       "      <td>10</td>\n",
       "      <td>11</td>\n",
       "      <td>13</td>\n",
       "    </tr>\n",
       "    <tr>\n",
       "      <th>1</th>\n",
       "      <td>2481190</td>\n",
       "      <td>1303738766</td>\n",
       "      <td>http://www.bbc.co.uk/news/magazine-13140772</td>\n",
       "      <td>NaN</td>\n",
       "      <td>soitgoes</td>\n",
       "      <td>2481521</td>\n",
       "      <td>\"Made to play\" is a contradiction.</td>\n",
       "      <td>petervandijck</td>\n",
       "      <td>9</td>\n",
       "      <td>1125</td>\n",
       "      <td>16</td>\n",
       "    </tr>\n",
       "    <tr>\n",
       "      <th>2</th>\n",
       "      <td>6302825</td>\n",
       "      <td>1377881848</td>\n",
       "      <td>https://gingkoapp.com/p/future-of-text</td>\n",
       "      <td>NaN</td>\n",
       "      <td>adriano_f</td>\n",
       "      <td>6303075</td>\n",
       "      <td>I like this a lot!&lt;p&gt;The research manuscript e...</td>\n",
       "      <td>heurist</td>\n",
       "      <td>5</td>\n",
       "      <td>31</td>\n",
       "      <td>42</td>\n",
       "    </tr>\n",
       "    <tr>\n",
       "      <th>3</th>\n",
       "      <td>6268480</td>\n",
       "      <td>1377347411</td>\n",
       "      <td>http://lists.w3.org/Archives/Public/www-archiv...</td>\n",
       "      <td>NaN</td>\n",
       "      <td>bpierre</td>\n",
       "      <td>6270567</td>\n",
       "      <td>Fetching stuff over HTTP can be incredibly stu...</td>\n",
       "      <td>MBCook</td>\n",
       "      <td>5</td>\n",
       "      <td>84</td>\n",
       "      <td>11</td>\n",
       "    </tr>\n",
       "    <tr>\n",
       "      <th>4</th>\n",
       "      <td>5487883</td>\n",
       "      <td>1365012711</td>\n",
       "      <td>https://medium.com/i-m-h-o/ef4772e3c628</td>\n",
       "      <td>NaN</td>\n",
       "      <td>jpadilla_</td>\n",
       "      <td>5487972</td>\n",
       "      <td>Conversely, start working( harder ).</td>\n",
       "      <td>TheSOB88</td>\n",
       "      <td>43</td>\n",
       "      <td>171</td>\n",
       "      <td>44</td>\n",
       "    </tr>\n",
       "  </tbody>\n",
       "</table>\n",
       "</div>"
      ],
      "text/plain": [
       "   story_id  story_time                                          story_url  \\\n",
       "0   3985069  1337221782  http://androidcommunity.com/verizon-killing-of...   \n",
       "1   2481190  1303738766        http://www.bbc.co.uk/news/magazine-13140772   \n",
       "2   6302825  1377881848             https://gingkoapp.com/p/future-of-text   \n",
       "3   6268480  1377347411  http://lists.w3.org/Archives/Public/www-archiv...   \n",
       "4   5487883  1365012711            https://medium.com/i-m-h-o/ef4772e3c628   \n",
       "\n",
       "  story_text story_author  comment_id  \\\n",
       "0        NaN       joedev     3985756   \n",
       "1        NaN     soitgoes     2481521   \n",
       "2        NaN    adriano_f     6303075   \n",
       "3        NaN      bpierre     6270567   \n",
       "4        NaN    jpadilla_     5487972   \n",
       "\n",
       "                                        comment_text comment_author  \\\n",
       "0  Makes sense for Verizon, and if they are being...         Quizzy   \n",
       "1                 \"Made to play\" is a contradiction.  petervandijck   \n",
       "2  I like this a lot!<p>The research manuscript e...        heurist   \n",
       "3  Fetching stuff over HTTP can be incredibly stu...         MBCook   \n",
       "4               Conversely, start working( harder ).       TheSOB88   \n",
       "\n",
       "   comment_ranking  author_comment_count  story_comment_count  \n",
       "0               10                    11                   13  \n",
       "1                9                  1125                   16  \n",
       "2                5                    31                   42  \n",
       "3                5                    84                   11  \n",
       "4               43                   171                   44  "
      ]
     },
     "execution_count": 3,
     "metadata": {},
     "output_type": "execute_result"
    }
   ],
   "source": [
    "HN.head()"
   ]
  },
  {
   "cell_type": "code",
   "execution_count": 4,
   "metadata": {
    "ExecuteTime": {
     "end_time": "2019-06-21T06:08:58.255536Z",
     "start_time": "2019-06-21T06:08:58.241665Z"
    }
   },
   "outputs": [
    {
     "data": {
      "text/html": [
       "<div>\n",
       "<style scoped>\n",
       "    .dataframe tbody tr th:only-of-type {\n",
       "        vertical-align: middle;\n",
       "    }\n",
       "\n",
       "    .dataframe tbody tr th {\n",
       "        vertical-align: top;\n",
       "    }\n",
       "\n",
       "    .dataframe thead th {\n",
       "        text-align: right;\n",
       "    }\n",
       "</style>\n",
       "<table border=\"1\" class=\"dataframe\">\n",
       "  <thead>\n",
       "    <tr style=\"text-align: right;\">\n",
       "      <th></th>\n",
       "      <th>story_id</th>\n",
       "      <th>story_time</th>\n",
       "      <th>story_url</th>\n",
       "      <th>story_text</th>\n",
       "      <th>story_author</th>\n",
       "      <th>comment_id</th>\n",
       "      <th>comment_text</th>\n",
       "      <th>comment_author</th>\n",
       "      <th>comment_ranking</th>\n",
       "      <th>author_comment_count</th>\n",
       "      <th>story_comment_count</th>\n",
       "    </tr>\n",
       "  </thead>\n",
       "  <tbody>\n",
       "    <tr>\n",
       "      <th>1165434</th>\n",
       "      <td>1013531</td>\n",
       "      <td>1261638606</td>\n",
       "      <td>NaN</td>\n",
       "      <td>For the year 2010, I plan to:\\n1. Learn Clojur...</td>\n",
       "      <td>aitoehigie</td>\n",
       "      <td>1013543</td>\n",
       "      <td>I plan to end 2010 with 10x as many customers ...</td>\n",
       "      <td>cperciva</td>\n",
       "      <td>2</td>\n",
       "      <td>1346</td>\n",
       "      <td>51</td>\n",
       "    </tr>\n",
       "    <tr>\n",
       "      <th>1165435</th>\n",
       "      <td>1013531</td>\n",
       "      <td>1261638606</td>\n",
       "      <td>NaN</td>\n",
       "      <td>For the year 2010, I plan to:\\n1. Learn Clojur...</td>\n",
       "      <td>aitoehigie</td>\n",
       "      <td>1013710</td>\n",
       "      <td>Being very close to graduate in the end of the...</td>\n",
       "      <td>zppx</td>\n",
       "      <td>39</td>\n",
       "      <td>74</td>\n",
       "      <td>51</td>\n",
       "    </tr>\n",
       "    <tr>\n",
       "      <th>1165436</th>\n",
       "      <td>4312761</td>\n",
       "      <td>1343662100</td>\n",
       "      <td>http://code.google.com/p/chromium/issues/detai...</td>\n",
       "      <td>NaN</td>\n",
       "      <td>eranation</td>\n",
       "      <td>4313810</td>\n",
       "      <td>Not surprising. The amount of &lt;i&gt;aggressive&lt;/i...</td>\n",
       "      <td>jperras</td>\n",
       "      <td>1</td>\n",
       "      <td>46</td>\n",
       "      <td>11</td>\n",
       "    </tr>\n",
       "    <tr>\n",
       "      <th>1165437</th>\n",
       "      <td>9804349</td>\n",
       "      <td>1435663051</td>\n",
       "      <td>http://blogs.aws.amazon.com/security/post/TxCK...</td>\n",
       "      <td>NaN</td>\n",
       "      <td>ukj</td>\n",
       "      <td>9804795</td>\n",
       "      <td>If I counted right:&lt;p&gt;&lt;pre&gt;&lt;code&gt;  OCaml TLS: ...</td>\n",
       "      <td>edwintorok</td>\n",
       "      <td>0</td>\n",
       "      <td>93</td>\n",
       "      <td>17</td>\n",
       "    </tr>\n",
       "    <tr>\n",
       "      <th>1165438</th>\n",
       "      <td>6765099</td>\n",
       "      <td>1384901786</td>\n",
       "      <td>http://www.theatlantic.com/technology/archive/...</td>\n",
       "      <td>NaN</td>\n",
       "      <td>sinak</td>\n",
       "      <td>6767538</td>\n",
       "      <td>We are educated to speak well our language (en...</td>\n",
       "      <td>ithkuil</td>\n",
       "      <td>10</td>\n",
       "      <td>91</td>\n",
       "      <td>41</td>\n",
       "    </tr>\n",
       "  </tbody>\n",
       "</table>\n",
       "</div>"
      ],
      "text/plain": [
       "         story_id  story_time  \\\n",
       "1165434   1013531  1261638606   \n",
       "1165435   1013531  1261638606   \n",
       "1165436   4312761  1343662100   \n",
       "1165437   9804349  1435663051   \n",
       "1165438   6765099  1384901786   \n",
       "\n",
       "                                                 story_url  \\\n",
       "1165434                                                NaN   \n",
       "1165435                                                NaN   \n",
       "1165436  http://code.google.com/p/chromium/issues/detai...   \n",
       "1165437  http://blogs.aws.amazon.com/security/post/TxCK...   \n",
       "1165438  http://www.theatlantic.com/technology/archive/...   \n",
       "\n",
       "                                                story_text story_author  \\\n",
       "1165434  For the year 2010, I plan to:\\n1. Learn Clojur...   aitoehigie   \n",
       "1165435  For the year 2010, I plan to:\\n1. Learn Clojur...   aitoehigie   \n",
       "1165436                                                NaN    eranation   \n",
       "1165437                                                NaN          ukj   \n",
       "1165438                                                NaN        sinak   \n",
       "\n",
       "         comment_id                                       comment_text  \\\n",
       "1165434     1013543  I plan to end 2010 with 10x as many customers ...   \n",
       "1165435     1013710  Being very close to graduate in the end of the...   \n",
       "1165436     4313810  Not surprising. The amount of <i>aggressive</i...   \n",
       "1165437     9804795  If I counted right:<p><pre><code>  OCaml TLS: ...   \n",
       "1165438     6767538  We are educated to speak well our language (en...   \n",
       "\n",
       "        comment_author  comment_ranking  author_comment_count  \\\n",
       "1165434       cperciva                2                  1346   \n",
       "1165435           zppx               39                    74   \n",
       "1165436        jperras                1                    46   \n",
       "1165437     edwintorok                0                    93   \n",
       "1165438        ithkuil               10                    91   \n",
       "\n",
       "         story_comment_count  \n",
       "1165434                   51  \n",
       "1165435                   51  \n",
       "1165436                   11  \n",
       "1165437                   17  \n",
       "1165438                   41  "
      ]
     },
     "execution_count": 4,
     "metadata": {},
     "output_type": "execute_result"
    }
   ],
   "source": [
    "HN.tail()"
   ]
  },
  {
   "cell_type": "code",
   "execution_count": 5,
   "metadata": {
    "ExecuteTime": {
     "end_time": "2019-06-21T06:19:37.160067Z",
     "start_time": "2019-06-21T06:19:37.156594Z"
    }
   },
   "outputs": [],
   "source": [
    "features = HN"
   ]
  },
  {
   "cell_type": "code",
   "execution_count": 6,
   "metadata": {
    "ExecuteTime": {
     "end_time": "2019-06-21T06:19:44.155250Z",
     "start_time": "2019-06-21T06:19:43.857348Z"
    }
   },
   "outputs": [],
   "source": [
    "# Convert all integer arrays to int32\n",
    "for col, dtype in zip(features.columns, features.dtypes):\n",
    "    if dtype is np.dtype('int64'):\n",
    "        features[col] = features[col].astype('int32')"
   ]
  },
  {
   "cell_type": "code",
   "execution_count": 7,
   "metadata": {
    "ExecuteTime": {
     "end_time": "2019-06-21T06:19:50.613435Z",
     "start_time": "2019-06-21T06:19:50.609404Z"
    }
   },
   "outputs": [],
   "source": [
    "\n",
    "max_length = 250   # Limit of 250 words per comment\n",
    "min_author_comments = 50  # Exclude authors with fewer comments\n",
    "nrows = None  # Number of rows of file to read; None reads in full file"
   ]
  },
  {
   "cell_type": "code",
   "execution_count": 8,
   "metadata": {
    "ExecuteTime": {
     "end_time": "2019-06-21T06:19:59.369483Z",
     "start_time": "2019-06-21T06:19:58.403077Z"
    }
   },
   "outputs": [],
   "source": [
    "# Extract numpy arrays over the fields we want covered by topics\n",
    "# Convert to categorical variables\n",
    "author_counts = features['comment_author'].value_counts()\n",
    "to_remove = author_counts[author_counts < min_author_comments].index\n",
    "mask = features['comment_author'].isin(to_remove).values\n",
    "author_name = features['comment_author'].values.copy()\n",
    "author_name[mask] = 'infrequent_author'\n",
    "features['comment_author'] = author_name\n",
    "authors = pd.Categorical(features['comment_author'])\n",
    "author_id = authors.codes\n",
    "author_name = authors.categories\n",
    "story_id = pd.Categorical(features['story_id']).codes\n",
    "# Chop timestamps into days\n",
    "story_time = pd.to_datetime(features['story_time'], unit='s')\n",
    "days_since = (story_time - story_time.min()) / pd.Timedelta('1 day')\n",
    "time_id = days_since.astype('int32')\n",
    "days_since = (story_time - story_time.min()) / pd.Timedelta('1 day')\n",
    "features['story_id_codes'] = story_id \n",
    "features['author_id_codes'] = story_id\n",
    "features['time_id_codes'] = time_id\n",
    "features['days_since'] = days_since\n",
    "features['story_dt'] = story_time"
   ]
  },
  {
   "cell_type": "code",
   "execution_count": 9,
   "metadata": {
    "ExecuteTime": {
     "end_time": "2019-06-21T06:20:04.163345Z",
     "start_time": "2019-06-21T06:20:04.145985Z"
    }
   },
   "outputs": [
    {
     "data": {
      "text/html": [
       "<div>\n",
       "<style scoped>\n",
       "    .dataframe tbody tr th:only-of-type {\n",
       "        vertical-align: middle;\n",
       "    }\n",
       "\n",
       "    .dataframe tbody tr th {\n",
       "        vertical-align: top;\n",
       "    }\n",
       "\n",
       "    .dataframe thead th {\n",
       "        text-align: right;\n",
       "    }\n",
       "</style>\n",
       "<table border=\"1\" class=\"dataframe\">\n",
       "  <thead>\n",
       "    <tr style=\"text-align: right;\">\n",
       "      <th></th>\n",
       "      <th>story_id</th>\n",
       "      <th>story_time</th>\n",
       "      <th>story_url</th>\n",
       "      <th>story_text</th>\n",
       "      <th>story_author</th>\n",
       "      <th>comment_id</th>\n",
       "      <th>comment_text</th>\n",
       "      <th>comment_author</th>\n",
       "      <th>comment_ranking</th>\n",
       "      <th>author_comment_count</th>\n",
       "      <th>story_comment_count</th>\n",
       "      <th>story_id_codes</th>\n",
       "      <th>author_id_codes</th>\n",
       "      <th>time_id_codes</th>\n",
       "      <th>days_since</th>\n",
       "      <th>story_dt</th>\n",
       "    </tr>\n",
       "  </thead>\n",
       "  <tbody>\n",
       "    <tr>\n",
       "      <th>1165434</th>\n",
       "      <td>1013531</td>\n",
       "      <td>1261638606</td>\n",
       "      <td>NaN</td>\n",
       "      <td>For the year 2010, I plan to:\\n1. Learn Clojur...</td>\n",
       "      <td>aitoehigie</td>\n",
       "      <td>1013543</td>\n",
       "      <td>I plan to end 2010 with 10x as many customers ...</td>\n",
       "      <td>cperciva</td>\n",
       "      <td>2</td>\n",
       "      <td>1346</td>\n",
       "      <td>51</td>\n",
       "      <td>5787</td>\n",
       "      <td>5787</td>\n",
       "      <td>1037</td>\n",
       "      <td>1037.401030</td>\n",
       "      <td>2009-12-24 07:10:06</td>\n",
       "    </tr>\n",
       "    <tr>\n",
       "      <th>1165435</th>\n",
       "      <td>1013531</td>\n",
       "      <td>1261638606</td>\n",
       "      <td>NaN</td>\n",
       "      <td>For the year 2010, I plan to:\\n1. Learn Clojur...</td>\n",
       "      <td>aitoehigie</td>\n",
       "      <td>1013710</td>\n",
       "      <td>Being very close to graduate in the end of the...</td>\n",
       "      <td>infrequent_author</td>\n",
       "      <td>39</td>\n",
       "      <td>74</td>\n",
       "      <td>51</td>\n",
       "      <td>5787</td>\n",
       "      <td>5787</td>\n",
       "      <td>1037</td>\n",
       "      <td>1037.401030</td>\n",
       "      <td>2009-12-24 07:10:06</td>\n",
       "    </tr>\n",
       "    <tr>\n",
       "      <th>1165436</th>\n",
       "      <td>4312761</td>\n",
       "      <td>1343662100</td>\n",
       "      <td>http://code.google.com/p/chromium/issues/detai...</td>\n",
       "      <td>NaN</td>\n",
       "      <td>eranation</td>\n",
       "      <td>4313810</td>\n",
       "      <td>Not surprising. The amount of &lt;i&gt;aggressive&lt;/i...</td>\n",
       "      <td>infrequent_author</td>\n",
       "      <td>1</td>\n",
       "      <td>46</td>\n",
       "      <td>11</td>\n",
       "      <td>27058</td>\n",
       "      <td>27058</td>\n",
       "      <td>1986</td>\n",
       "      <td>1986.747025</td>\n",
       "      <td>2012-07-30 15:28:20</td>\n",
       "    </tr>\n",
       "    <tr>\n",
       "      <th>1165437</th>\n",
       "      <td>9804349</td>\n",
       "      <td>1435663051</td>\n",
       "      <td>http://blogs.aws.amazon.com/security/post/TxCK...</td>\n",
       "      <td>NaN</td>\n",
       "      <td>ukj</td>\n",
       "      <td>9804795</td>\n",
       "      <td>If I counted right:&lt;p&gt;&lt;pre&gt;&lt;code&gt;  OCaml TLS: ...</td>\n",
       "      <td>edwintorok</td>\n",
       "      <td>0</td>\n",
       "      <td>93</td>\n",
       "      <td>17</td>\n",
       "      <td>62571</td>\n",
       "      <td>62571</td>\n",
       "      <td>3051</td>\n",
       "      <td>3051.572847</td>\n",
       "      <td>2015-06-30 11:17:31</td>\n",
       "    </tr>\n",
       "    <tr>\n",
       "      <th>1165438</th>\n",
       "      <td>6765099</td>\n",
       "      <td>1384901786</td>\n",
       "      <td>http://www.theatlantic.com/technology/archive/...</td>\n",
       "      <td>NaN</td>\n",
       "      <td>sinak</td>\n",
       "      <td>6767538</td>\n",
       "      <td>We are educated to speak well our language (en...</td>\n",
       "      <td>infrequent_author</td>\n",
       "      <td>10</td>\n",
       "      <td>91</td>\n",
       "      <td>41</td>\n",
       "      <td>43699</td>\n",
       "      <td>43699</td>\n",
       "      <td>2464</td>\n",
       "      <td>2464.058206</td>\n",
       "      <td>2013-11-19 22:56:26</td>\n",
       "    </tr>\n",
       "  </tbody>\n",
       "</table>\n",
       "</div>"
      ],
      "text/plain": [
       "         story_id  story_time  \\\n",
       "1165434   1013531  1261638606   \n",
       "1165435   1013531  1261638606   \n",
       "1165436   4312761  1343662100   \n",
       "1165437   9804349  1435663051   \n",
       "1165438   6765099  1384901786   \n",
       "\n",
       "                                                 story_url  \\\n",
       "1165434                                                NaN   \n",
       "1165435                                                NaN   \n",
       "1165436  http://code.google.com/p/chromium/issues/detai...   \n",
       "1165437  http://blogs.aws.amazon.com/security/post/TxCK...   \n",
       "1165438  http://www.theatlantic.com/technology/archive/...   \n",
       "\n",
       "                                                story_text story_author  \\\n",
       "1165434  For the year 2010, I plan to:\\n1. Learn Clojur...   aitoehigie   \n",
       "1165435  For the year 2010, I plan to:\\n1. Learn Clojur...   aitoehigie   \n",
       "1165436                                                NaN    eranation   \n",
       "1165437                                                NaN          ukj   \n",
       "1165438                                                NaN        sinak   \n",
       "\n",
       "         comment_id                                       comment_text  \\\n",
       "1165434     1013543  I plan to end 2010 with 10x as many customers ...   \n",
       "1165435     1013710  Being very close to graduate in the end of the...   \n",
       "1165436     4313810  Not surprising. The amount of <i>aggressive</i...   \n",
       "1165437     9804795  If I counted right:<p><pre><code>  OCaml TLS: ...   \n",
       "1165438     6767538  We are educated to speak well our language (en...   \n",
       "\n",
       "            comment_author  comment_ranking  author_comment_count  \\\n",
       "1165434           cperciva                2                  1346   \n",
       "1165435  infrequent_author               39                    74   \n",
       "1165436  infrequent_author                1                    46   \n",
       "1165437         edwintorok                0                    93   \n",
       "1165438  infrequent_author               10                    91   \n",
       "\n",
       "         story_comment_count  story_id_codes  author_id_codes  time_id_codes  \\\n",
       "1165434                   51            5787             5787           1037   \n",
       "1165435                   51            5787             5787           1037   \n",
       "1165436                   11           27058            27058           1986   \n",
       "1165437                   17           62571            62571           3051   \n",
       "1165438                   41           43699            43699           2464   \n",
       "\n",
       "          days_since            story_dt  \n",
       "1165434  1037.401030 2009-12-24 07:10:06  \n",
       "1165435  1037.401030 2009-12-24 07:10:06  \n",
       "1165436  1986.747025 2012-07-30 15:28:20  \n",
       "1165437  3051.572847 2015-06-30 11:17:31  \n",
       "1165438  2464.058206 2013-11-19 22:56:26  "
      ]
     },
     "execution_count": 9,
     "metadata": {},
     "output_type": "execute_result"
    }
   ],
   "source": [
    "features.tail()"
   ]
  },
  {
   "cell_type": "code",
   "execution_count": 10,
   "metadata": {
    "ExecuteTime": {
     "end_time": "2019-06-21T06:20:35.594298Z",
     "start_time": "2019-06-21T06:20:35.113381Z"
    }
   },
   "outputs": [],
   "source": [
    "top_urls = features['story_url'].value_counts().index\n",
    "mask = features['story_url'] == top_urls[1]\n",
    "story_id_code = features[mask].story_id_codes.values[0]\n",
    "story_id_url = features[mask].story_url.values[0]"
   ]
  },
  {
   "cell_type": "code",
   "execution_count": 11,
   "metadata": {
    "ExecuteTime": {
     "end_time": "2019-06-21T06:20:43.408515Z",
     "start_time": "2019-06-21T06:20:43.404052Z"
    }
   },
   "outputs": [
    {
     "data": {
      "text/plain": [
       "'http://googleblog.blogspot.com/2013/03/a-second-spring-of-cleaning.html'"
      ]
     },
     "execution_count": 11,
     "metadata": {},
     "output_type": "execute_result"
    }
   ],
   "source": [
    "\n",
    "story_id_url"
   ]
  },
  {
   "cell_type": "code",
   "execution_count": 12,
   "metadata": {
    "ExecuteTime": {
     "end_time": "2019-06-21T06:23:44.019221Z",
     "start_time": "2019-06-21T06:22:47.881987Z"
    }
   },
   "outputs": [],
   "source": [
    "cols = [u'story_comment_count', 'story_time', 'story_url', 'story_text', 'days_since', 'story_dt']\n",
    "stories = features.groupby('story_id_codes')[cols].min().reset_index()"
   ]
  },
  {
   "cell_type": "code",
   "execution_count": 13,
   "metadata": {
    "ExecuteTime": {
     "end_time": "2019-06-21T06:24:35.282010Z",
     "start_time": "2019-06-21T06:24:35.267589Z"
    }
   },
   "outputs": [],
   "source": [
    "stories = stories.rename(columns={'story_dt': 'Article Date'})"
   ]
  },
  {
   "cell_type": "code",
   "execution_count": 14,
   "metadata": {
    "ExecuteTime": {
     "end_time": "2019-06-21T06:25:07.446046Z",
     "start_time": "2019-06-21T06:25:07.440590Z"
    }
   },
   "outputs": [
    {
     "data": {
      "text/plain": [
       "pandas.core.frame.DataFrame"
      ]
     },
     "execution_count": 14,
     "metadata": {},
     "output_type": "execute_result"
    }
   ],
   "source": [
    "type(stories)"
   ]
  },
  {
   "cell_type": "code",
   "execution_count": 16,
   "metadata": {
    "ExecuteTime": {
     "end_time": "2019-06-21T06:39:31.671630Z",
     "start_time": "2019-06-21T06:39:31.659127Z"
    },
    "scrolled": true
   },
   "outputs": [
    {
     "data": {
      "text/html": [
       "<div>\n",
       "<style scoped>\n",
       "    .dataframe tbody tr th:only-of-type {\n",
       "        vertical-align: middle;\n",
       "    }\n",
       "\n",
       "    .dataframe tbody tr th {\n",
       "        vertical-align: top;\n",
       "    }\n",
       "\n",
       "    .dataframe thead th {\n",
       "        text-align: right;\n",
       "    }\n",
       "</style>\n",
       "<table border=\"1\" class=\"dataframe\">\n",
       "  <thead>\n",
       "    <tr style=\"text-align: right;\">\n",
       "      <th></th>\n",
       "      <th>story_id_codes</th>\n",
       "      <th>story_comment_count</th>\n",
       "      <th>story_time</th>\n",
       "      <th>story_url</th>\n",
       "      <th>story_text</th>\n",
       "      <th>days_since</th>\n",
       "      <th>Article Date</th>\n",
       "    </tr>\n",
       "  </thead>\n",
       "  <tbody>\n",
       "    <tr>\n",
       "      <th>65714</th>\n",
       "      <td>65714</td>\n",
       "      <td>23</td>\n",
       "      <td>1444681531</td>\n",
       "      <td>https://labs.foxtype.com</td>\n",
       "      <td>NaN</td>\n",
       "      <td>3155.953403</td>\n",
       "      <td>2015-10-12 20:25:31</td>\n",
       "    </tr>\n",
       "    <tr>\n",
       "      <th>65715</th>\n",
       "      <td>65715</td>\n",
       "      <td>12</td>\n",
       "      <td>1444689726</td>\n",
       "      <td>http://usbip.sourceforge.net/</td>\n",
       "      <td>NaN</td>\n",
       "      <td>3156.048252</td>\n",
       "      <td>2015-10-12 22:42:06</td>\n",
       "    </tr>\n",
       "    <tr>\n",
       "      <th>65716</th>\n",
       "      <td>65716</td>\n",
       "      <td>27</td>\n",
       "      <td>1444698305</td>\n",
       "      <td>http://leahweitz.com/things-men-have-actually-...</td>\n",
       "      <td>NaN</td>\n",
       "      <td>3156.147546</td>\n",
       "      <td>2015-10-13 01:05:05</td>\n",
       "    </tr>\n",
       "    <tr>\n",
       "      <th>65717</th>\n",
       "      <td>65717</td>\n",
       "      <td>11</td>\n",
       "      <td>1444699504</td>\n",
       "      <td>http://www.theatlantic.com/international/archi...</td>\n",
       "      <td>NaN</td>\n",
       "      <td>3156.161424</td>\n",
       "      <td>2015-10-13 01:25:04</td>\n",
       "    </tr>\n",
       "    <tr>\n",
       "      <th>65718</th>\n",
       "      <td>65718</td>\n",
       "      <td>12</td>\n",
       "      <td>1444701037</td>\n",
       "      <td>http://www.lexika.io</td>\n",
       "      <td>NaN</td>\n",
       "      <td>3156.179167</td>\n",
       "      <td>2015-10-13 01:50:37</td>\n",
       "    </tr>\n",
       "  </tbody>\n",
       "</table>\n",
       "</div>"
      ],
      "text/plain": [
       "       story_id_codes  story_comment_count  story_time  \\\n",
       "65714           65714                   23  1444681531   \n",
       "65715           65715                   12  1444689726   \n",
       "65716           65716                   27  1444698305   \n",
       "65717           65717                   11  1444699504   \n",
       "65718           65718                   12  1444701037   \n",
       "\n",
       "                                               story_url story_text  \\\n",
       "65714                           https://labs.foxtype.com        NaN   \n",
       "65715                      http://usbip.sourceforge.net/        NaN   \n",
       "65716  http://leahweitz.com/things-men-have-actually-...        NaN   \n",
       "65717  http://www.theatlantic.com/international/archi...        NaN   \n",
       "65718                               http://www.lexika.io        NaN   \n",
       "\n",
       "        days_since        Article Date  \n",
       "65714  3155.953403 2015-10-12 20:25:31  \n",
       "65715  3156.048252 2015-10-12 22:42:06  \n",
       "65716  3156.147546 2015-10-13 01:05:05  \n",
       "65717  3156.161424 2015-10-13 01:25:04  \n",
       "65718  3156.179167 2015-10-13 01:50:37  "
      ]
     },
     "execution_count": 16,
     "metadata": {},
     "output_type": "execute_result"
    }
   ],
   "source": [
    "stories.tail()"
   ]
  },
  {
   "cell_type": "code",
   "execution_count": null,
   "metadata": {},
   "outputs": [],
   "source": [
    "stories.merge()\n",
    "pd.pivot_table()"
   ]
  },
  {
   "cell_type": "code",
   "execution_count": 17,
   "metadata": {
    "ExecuteTime": {
     "end_time": "2019-06-21T06:46:40.342914Z",
     "start_time": "2019-06-21T06:46:40.339424Z"
    }
   },
   "outputs": [],
   "source": [
    "mass = lambda x: ((x) * 1.0).sum() / x.shape[0]"
   ]
  },
  {
   "cell_type": "code",
   "execution_count": 19,
   "metadata": {
    "ExecuteTime": {
     "end_time": "2019-06-21T06:54:35.974949Z",
     "start_time": "2019-06-21T06:54:35.965043Z"
    }
   },
   "outputs": [
    {
     "ename": "AttributeError",
     "evalue": "module 'pandas' has no attribute 'rolling_mean'",
     "output_type": "error",
     "traceback": [
      "\u001b[1;31m---------------------------------------------------------------------------\u001b[0m",
      "\u001b[1;31mAttributeError\u001b[0m                            Traceback (most recent call last)",
      "\u001b[1;32m<ipython-input-19-88d173b6d036>\u001b[0m in \u001b[0;36m<module>\u001b[1;34m\u001b[0m\n\u001b[1;32m----> 1\u001b[1;33m \u001b[0ma\u001b[0m \u001b[1;33m=\u001b[0m \u001b[0mpd\u001b[0m\u001b[1;33m.\u001b[0m\u001b[0mrolling_mean\u001b[0m\u001b[1;33m(\u001b[0m\u001b[1;33m)\u001b[0m\u001b[1;33m\u001b[0m\u001b[1;33m\u001b[0m\u001b[0m\n\u001b[0m",
      "\u001b[1;31mAttributeError\u001b[0m: module 'pandas' has no attribute 'rolling_mean'"
     ]
    }
   ],
   "source": [
    "a = pd.rolling_mean()\n",
    "# [cankao ]（http://pandas.pydata.org/pandas-docs/stable/whatsnew/v0.18.0.html#window-functions-are-now-methods）\n",
    "# https://stackoverflow.com/questions/50482884/module-pandas-has-no-attribute-rolling-mean"
   ]
  },
  {
   "cell_type": "code",
   "execution_count": null,
   "metadata": {},
   "outputs": [],
   "source": [
    "#"
   ]
  }
 ],
 "metadata": {
  "hide_input": false,
  "kernelspec": {
   "display_name": "Python (env_full_stack)",
   "language": "python",
   "name": "env_full_stack"
  },
  "latex_envs": {
   "LaTeX_envs_menu_present": true,
   "autoclose": false,
   "autocomplete": true,
   "bibliofile": "biblio.bib",
   "cite_by": "apalike",
   "current_citInitial": 1,
   "eqLabelWithNumbers": true,
   "eqNumInitial": 1,
   "hotkeys": {
    "equation": "Ctrl-E",
    "itemize": "Ctrl-I"
   },
   "labels_anchors": false,
   "latex_user_defs": false,
   "report_style_numbering": false,
   "user_envs_cfg": false
  },
  "nbTranslate": {
   "displayLangs": [
    "*"
   ],
   "hotkey": "alt-t",
   "langInMainMenu": true,
   "sourceLang": "en",
   "targetLang": "fr",
   "useGoogleTranslate": true
  },
  "toc": {
   "base_numbering": 1,
   "nav_menu": {},
   "number_sections": true,
   "sideBar": true,
   "skip_h1_title": false,
   "title_cell": "Table of Contents",
   "title_sidebar": "Contents",
   "toc_cell": false,
   "toc_position": {},
   "toc_section_display": true,
   "toc_window_display": false
  },
  "varInspector": {
   "cols": {
    "lenName": 16,
    "lenType": 16,
    "lenVar": 40
   },
   "kernels_config": {
    "python": {
     "delete_cmd_postfix": "",
     "delete_cmd_prefix": "del ",
     "library": "var_list.py",
     "varRefreshCmd": "print(var_dic_list())"
    },
    "r": {
     "delete_cmd_postfix": ") ",
     "delete_cmd_prefix": "rm(",
     "library": "var_list.r",
     "varRefreshCmd": "cat(var_dic_list()) "
    }
   },
   "types_to_exclude": [
    "module",
    "function",
    "builtin_function_or_method",
    "instance",
    "_Feature"
   ],
   "window_display": false
  }
 },
 "nbformat": 4,
 "nbformat_minor": 2
}
